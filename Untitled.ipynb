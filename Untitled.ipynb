{
 "cells": [
  {
   "cell_type": "code",
   "execution_count": 32,
   "metadata": {
    "collapsed": true
   },
   "outputs": [],
   "source": [
    "import numpy as np\n",
    "import matplotlib.pyplot as plt\n",
    "import math"
   ]
  },
  {
   "cell_type": "code",
   "execution_count": 33,
   "metadata": {
    "collapsed": false
   },
   "outputs": [],
   "source": [
    "## Plotting Points\n",
    "c1=np.array([[2, 7], [8, 1], [7, 5], [6, 3], [7, 8], [5, 9], [4, 5]])\n",
    "c2=np.array([[4 , 2], [-1, 1] ,[1, 3], [3, -2], [5, 3.25], [2, 4], [7, 1] ])\n",
    "\n",
    "plt.scatter(c1[:,0],c1[:,1],c='g')\n",
    "plt.scatter(c2[:,0],c2[:,1],c='r')\n",
    "# plt.show()\n",
    "w=np.array([[1]]*7)\n",
    "c1=np.append(w,c1,1)\n",
    "c2=np.append(w,c2,1)\n",
    "\n",
    "\n"
   ]
  },
  {
   "cell_type": "code",
   "execution_count": 19,
   "metadata": {
    "collapsed": false
   },
   "outputs": [
    {
     "name": "stdout",
     "output_type": "stream",
     "text": [
      "[-57.    7.    6.5]\n"
     ]
    }
   ],
   "source": [
    "## Single Sample Perceptron\n",
    "#Lets normalize :\n",
    "c2=c2*-1\n",
    "#Put all points in 1 array\n",
    "y=np.append(c1,c2,0)\n",
    "#Assign a\n",
    "a=np.array([-44,3,3])\n",
    "#Set loop and start\n",
    "\n",
    "flag=1\n",
    "counter=0\n",
    "while(flag==1):\n",
    "    flag=0\n",
    "    counter+=1\n",
    "    for i in range(len(y)):\n",
    "        prod=np.inner(a,y[i])\n",
    "        if(prod<0):\n",
    "            a=a+y[i]\n",
    "            flag=1\n",
    "print(a)\n",
    "# print(counter)\n",
    "point_x_0=-1*(a[0]/a[2])\n",
    "point_y_0=-1*(a[0]/a[1])\n",
    "plt.plot([0,point_y_0],[point_x_0,0])\n",
    "plt.show()"
   ]
  },
  {
   "cell_type": "code",
   "execution_count": 8,
   "metadata": {
    "collapsed": false
   },
   "outputs": [
    {
     "name": "stdout",
     "output_type": "stream",
     "text": [
      "[-104.     12.     12.75]\n",
      "30\n"
     ]
    }
   ],
   "source": [
    "## Single Sample Perceptron with margin\n",
    "# Decide an arbitrary margin b\n",
    "b=1\n",
    "#Lets normalize :\n",
    "c2=c2*-1\n",
    "#Put all points in 1 array\n",
    "y=np.append(c1,c2,0)\n",
    "#Assign a\n",
    "a=np.array([-100,10,10])\n",
    "#Set loop and start\n",
    "\n",
    "flag=1\n",
    "counter=0\n",
    "while(flag==1):\n",
    "    flag=0\n",
    "    counter+=1\n",
    "    for i in range(len(y)):\n",
    "        prod=np.inner(a,y[i])\n",
    "        if(prod<b):\n",
    "            a=a+y[i]\n",
    "            flag=1\n",
    "print(a)\n",
    "print(counter)\n",
    "point_x_0=-1*(a[0]/a[2])\n",
    "point_y_0=-1*(a[0]/a[1])\n",
    "plt.plot([0,point_y_0],[point_x_0,0])\n",
    "plt.show()"
   ]
  },
  {
   "cell_type": "code",
   "execution_count": 14,
   "metadata": {
    "collapsed": false
   },
   "outputs": [
    {
     "name": "stdout",
     "output_type": "stream",
     "text": [
      "60000\n"
     ]
    }
   ],
   "source": [
    "##Relaxation Perceptron with margin\n",
    "#take a margin\n",
    "b=1\n",
    "rate=0.05\n",
    "#Lets normalize :\n",
    "c2=c2*-1\n",
    "#Put all points in 1 array\n",
    "y=np.append(c1,c2,0)\n",
    "#Assign a\n",
    "a=np.array([1,1,1])\n",
    "#Set loop and start\n",
    "\n",
    "flag=1\n",
    "limit=0\n",
    "while(flag==1 and limit<60000 ):\n",
    "    flag=0\n",
    "    limit+=1\n",
    "    for i in range(len(y)):\n",
    "        prod=np.inner(a,y[i])\n",
    "#         print(prod)\n",
    "        if(prod<b):\n",
    "            mag_y=y[i][1]*y[i][1]+y[i][2]*y[i][2]+y[i][0]*y[i][0]\n",
    "            tmp=b-prod\n",
    "            tmp=tmp/mag_y\n",
    "            tmp=tmp*rate*y[i]\n",
    "            a=a+tmp        \n",
    "            flag=1\n",
    "print(limit)\n",
    "point_x_0=-1*(a[0]/a[2])\n",
    "point_y_0=-1*(a[0]/a[1])\n",
    "plt.plot([0,point_y_0],[point_x_0,0])\n",
    "plt.show()"
   ]
  },
  {
   "cell_type": "code",
   "execution_count": 34,
   "metadata": {
    "collapsed": false
   },
   "outputs": [
    {
     "name": "stdout",
     "output_type": "stream",
     "text": [
      "6936\n",
      "[-139695.13424401   17649.53270492    9906.32056603]\n",
      "-35051.824872\n",
      "11407.4479614\n",
      "33383.1975206\n",
      "-4078.97631641\n",
      "63102.1592186\n",
      "37709.4143748\n",
      "-19565.4005942\n",
      "49284.3622923\n",
      "147438.346383\n",
      "92326.639841\n",
      "106559.177261\n",
      "19251.9288798\n",
      "64770.7865701\n",
      "6242.08474354\n"
     ]
    }
   ],
   "source": [
    "##Widrow Hoff or LMS procedure\n",
    "#take a margin\n",
    "b=1\n",
    "init_rate=0.7\n",
    "#Lets normalize :\n",
    "c2=c2*-1\n",
    "#Put all points in 1 array\n",
    "y=np.append(c1,c2,0)\n",
    "#Assign a\n",
    "a=np.array([1,1,1])\n",
    "#Set loop and start\n",
    "theta=0.2\n",
    "limit=0\n",
    "flag=1\n",
    "annealing=0\n",
    "\n",
    "while(flag==1 and limit<60000):\n",
    "    limit+=1\n",
    "    for i in range(len(y)):\n",
    "        annealing+=1\n",
    "        rate=init_rate/annealing\n",
    "        prod=np.inner(a,y[i])\n",
    "        tmp=b-prod\n",
    "        tmp=tmp*rate*y[i]\n",
    "        \n",
    "        a=a+tmp\n",
    "        ## Calc error\n",
    "        mag_tmp=tmp[1]*tmp[1]+tmp[2]*tmp[2]+tmp[0]*tmp[0]\n",
    "        tmp=math.sqrt(mag_tmp)\n",
    "#         print(tmp)\n",
    "        if(tmp<theta):\n",
    "            flag=0\n",
    "\n",
    "print(limit)\n",
    "print(a)\n",
    "point_x_0=-1*(a[0]/a[2])\n",
    "point_y_0=-1*(a[0]/a[1])\n",
    "plt.plot([0,point_y_0],[point_x_0,0])\n",
    "plt.show()\n",
    "for i in range(len(y)):\n",
    "        prod=np.inner(a,y[i])\n",
    "        print(prod)\n"
   ]
  },
  {
   "cell_type": "code",
   "execution_count": null,
   "metadata": {
    "collapsed": true
   },
   "outputs": [],
   "source": []
  }
 ],
 "metadata": {
  "anaconda-cloud": {},
  "kernelspec": {
   "display_name": "Python [Root]",
   "language": "python",
   "name": "Python [Root]"
  },
  "language_info": {
   "codemirror_mode": {
    "name": "ipython",
    "version": 3
   },
   "file_extension": ".py",
   "mimetype": "text/x-python",
   "name": "python",
   "nbconvert_exporter": "python",
   "pygments_lexer": "ipython3",
   "version": "3.5.2"
  }
 },
 "nbformat": 4,
 "nbformat_minor": 0
}
